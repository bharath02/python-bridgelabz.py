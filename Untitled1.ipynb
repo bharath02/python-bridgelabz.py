{
 "cells": [
  {
   "cell_type": "code",
   "execution_count": 43,
   "metadata": {},
   "outputs": [
    {
     "name": "stdout",
     "output_type": "stream",
     "text": [
      "Country Code: 91 National Number: 9700028593\n",
      "Country Code: 91 National Number: 9700028593\n",
      "India\n",
      "Aircel\n",
      "Idea\n",
      "BSNL MOBILE\n",
      "Vodafone\n"
     ]
    }
   ],
   "source": [
    "import phonenumbers\n",
    "from phonenumbers import geocoder\n",
    "x = phonenumbers.parse(\"+9197*****93\", None)\n",
    "print(x)\n",
    "\n",
    "x1 = phonenumbers.parse(\"97*****93\", \"IN\")\n",
    "print(x1)\n",
    "x2 = phonenumbers.parse(\"+919****93\", \"CH\")\n",
    "print(geocoder.description_for_number(x2,\"en\"))\n",
    "from phonenumbers import carrier\n",
    "x3 = phonenumbers.parse(\"+9197****93\", \"RO\")\n",
    "print(carrier.name_for_number(x3,\"en\"))\n",
    "x3 = phonenumbers.parse(\"+9196*****78\", \"RO\")\n",
    "print(carrier.name_for_number(x3,\"en\"))\n",
    "x3 = phonenumbers.parse(\"+919*****6\", \"RO\")\n",
    "print(carrier.name_for_number(x3,\"en\"))\n",
    "x3 = phonenumbers.parse(\"+919*****9\", \"RO\")\n",
    "print(carrier.name_for_number(x3,\"en\"))"
   ]
  },
  {
   "cell_type": "code",
   "execution_count": 46,
   "metadata": {},
   "outputs": [
    {
     "name": "stdout",
     "output_type": "stream",
     "text": [
      "Delaware\n",
      "\n"
     ]
    }
   ],
   "source": [
    "x4 = phonenumbers.parse(\"+13******8\", \"CH\")\n",
    "print(geocoder.description_for_number(x4,\"en\"))\n",
    "x3 = phonenumbers.parse(\"+13******8\", \"RO\")\n",
    "print(carrier.name_for_number(x3,\"en\"))"
   ]
  }
 ],
 "metadata": {
  "kernelspec": {
   "display_name": "Python 3",
   "language": "python",
   "name": "python3"
  },
  "language_info": {
   "codemirror_mode": {
    "name": "ipython",
    "version": 3
   },
   "file_extension": ".py",
   "mimetype": "text/x-python",
   "name": "python",
   "nbconvert_exporter": "python",
   "pygments_lexer": "ipython3",
   "version": "3.6.9"
  }
 },
 "nbformat": 4,
 "nbformat_minor": 4
}
