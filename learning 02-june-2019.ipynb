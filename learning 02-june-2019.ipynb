{
 "cells": [
  {
   "cell_type": "code",
   "execution_count": 1,
   "metadata": {},
   "outputs": [
    {
     "name": "stdout",
     "output_type": "stream",
     "text": [
      "            Adj. Close    hl_per  Pct_change  Adj. Volume      label\n",
      "Date                                                                \n",
      "2005-12-28  214.005615  0.255455    0.605961   14221500.0  50.322842\n",
      "2005-12-29  210.725489  2.042128   -1.829525   13877700.0  54.322689\n",
      "2005-12-30  208.072299  0.807501   -0.577564   15159000.0  54.869377\n",
      "2006-01-03  218.288837  0.101096    3.008142   26216100.0  52.597363\n",
      "2006-01-04  223.309335  0.835504    0.301870   30542200.0  53.164113\n"
     ]
    },
    {
     "name": "stderr",
     "output_type": "stream",
     "text": [
      "C:\\anaconda3\\lib\\site-packages\\sklearn\\svm\\base.py:196: FutureWarning: The default value of gamma will change from 'auto' to 'scale' in version 0.22 to account better for unscaled features. Set gamma explicitly to 'auto' or 'scale' to avoid this warning.\n",
      "  \"avoid this warning.\", FutureWarning)\n"
     ]
    },
    {
     "name": "stdout",
     "output_type": "stream",
     "text": [
      "rbf 0.752341366988586\n"
     ]
    },
    {
     "name": "stderr",
     "output_type": "stream",
     "text": [
      "C:\\anaconda3\\lib\\site-packages\\sklearn\\svm\\base.py:196: FutureWarning: The default value of gamma will change from 'auto' to 'scale' in version 0.22 to account better for unscaled features. Set gamma explicitly to 'auto' or 'scale' to avoid this warning.\n",
      "  \"avoid this warning.\", FutureWarning)\n"
     ]
    },
    {
     "name": "stdout",
     "output_type": "stream",
     "text": [
      "poly 0.6198897113058482\n"
     ]
    },
    {
     "name": "stderr",
     "output_type": "stream",
     "text": [
      "C:\\anaconda3\\lib\\site-packages\\sklearn\\svm\\base.py:196: FutureWarning: The default value of gamma will change from 'auto' to 'scale' in version 0.22 to account better for unscaled features. Set gamma explicitly to 'auto' or 'scale' to avoid this warning.\n",
      "  \"avoid this warning.\", FutureWarning)\n"
     ]
    },
    {
     "name": "stdout",
     "output_type": "stream",
     "text": [
      "sigmoid 0.8296163971165457\n",
      "linear 0.8914121668098648\n"
     ]
    }
   ],
   "source": [
    "import pandas as pd \n",
    "import quandl as q\n",
    "import math\n",
    "import numpy as np\n",
    "from sklearn import preprocessing, svm\n",
    "from sklearn.model_selection import train_test_split\n",
    "from sklearn.linear_model import LinearRegression\n",
    "\n",
    "df=q.get('WIKI/GOOGL')\n",
    "df=df[['Adj. Open','Adj. Close','Adj. Low','Adj. High','Adj. Volume']]\n",
    "df[\"hl_per\"]=(df[\"Adj. High\"]-df[\"Adj. Close\"])/df[\"Adj. Close\"] *100\n",
    "df[\"Pct_change\"]=(df['Adj. Close']-df[\"Adj. Open\"])/df[\"Adj. Open\"]*100\n",
    "df=df[[\"Adj. Close\",\"hl_per\",\"Pct_change\",'Adj. Volume']]\n",
    "forcast_col='Adj. Close'\n",
    "df.fillna(-99999, inplace=True)\n",
    "forcast_out= int(math.ceil(0.1*len(df)))\n",
    "df['label']=df[forcast_col].shift(forcast_out)\n",
    "df.dropna(inplace=True)\n",
    "print(df.head())\n",
    "\n",
    "X=np.array(df.drop(['label'],1))\n",
    "y=np.array(df['label'])\n",
    "\n",
    "X= preprocessing.scale(X)\n",
    "y=np.array(df['label'])\n",
    "\n",
    "X_train, X_test, y_train, y_test =train_test_split(X, y, test_size=0.2)\n",
    "\n",
    "for k in [\"rbf\",\"poly\",\"sigmoid\",\"linear\"]:\n",
    "    clf=svm.SVR(kernel=k)\n",
    "    clf.fit(X_train,y_train)\n",
    "    acc=clf.score(X_test, y_test)\n",
    "    print(k, acc)\n"
   ]
  },
  {
   "cell_type": "code",
   "execution_count": 13,
   "metadata": {},
   "outputs": [
    {
     "name": "stdout",
     "output_type": "stream",
     "text": [
      "* \n",
      "* * \n",
      "* * * \n"
     ]
    }
   ],
   "source": [
    "k=1\n",
    "for i in range(1,4):\n",
    "    for j in range(1,i+1):\n",
    "        print(\"*\",sep=\" \",end=\" \")\n",
    "    k=k+2    \n",
    "    print()    "
   ]
  },
  {
   "cell_type": "code",
   "execution_count": 2,
   "metadata": {},
   "outputs": [
    {
     "name": "stdout",
     "output_type": "stream",
     "text": [
      "0.8929705884865812\n"
     ]
    }
   ],
   "source": [
    "clf=LinearRegression()\n",
    "clf.fit(X_train, y_train)\n",
    "acc=clf.score(X_test, y_test)\n",
    "print(acc)"
   ]
  },
  {
   "cell_type": "code",
   "execution_count": 5,
   "metadata": {},
   "outputs": [
    {
     "ename": "NameError",
     "evalue": "name 'forecast_out' is not defined",
     "output_type": "error",
     "traceback": [
      "\u001b[1;31m---------------------------------------------------------------------------\u001b[0m",
      "\u001b[1;31mNameError\u001b[0m                                 Traceback (most recent call last)",
      "\u001b[1;32m<ipython-input-5-86d02989d898>\u001b[0m in \u001b[0;36m<module>\u001b[1;34m()\u001b[0m\n\u001b[0;32m      1\u001b[0m \u001b[0mX\u001b[0m\u001b[1;33m=\u001b[0m\u001b[0mnp\u001b[0m\u001b[1;33m.\u001b[0m\u001b[0marray\u001b[0m\u001b[1;33m(\u001b[0m\u001b[0mdf\u001b[0m\u001b[1;33m.\u001b[0m\u001b[0mdrop\u001b[0m\u001b[1;33m(\u001b[0m\u001b[1;33m[\u001b[0m\u001b[1;34m'label'\u001b[0m\u001b[1;33m]\u001b[0m\u001b[1;33m,\u001b[0m\u001b[1;36m1\u001b[0m\u001b[1;33m)\u001b[0m\u001b[1;33m)\u001b[0m\u001b[1;33m\u001b[0m\u001b[1;33m\u001b[0m\u001b[0m\n\u001b[0;32m      2\u001b[0m \u001b[0mX\u001b[0m\u001b[1;33m=\u001b[0m\u001b[0mpreprocessing\u001b[0m\u001b[1;33m.\u001b[0m\u001b[0mscale\u001b[0m\u001b[1;33m(\u001b[0m\u001b[0mX\u001b[0m\u001b[1;33m)\u001b[0m\u001b[1;33m\u001b[0m\u001b[1;33m\u001b[0m\u001b[0m\n\u001b[1;32m----> 3\u001b[1;33m \u001b[0mX_lately\u001b[0m\u001b[1;33m=\u001b[0m\u001b[0mX\u001b[0m\u001b[1;33m[\u001b[0m\u001b[1;33m-\u001b[0m\u001b[0mforecast_out\u001b[0m\u001b[1;33m:\u001b[0m\u001b[1;33m]\u001b[0m\u001b[1;33m\u001b[0m\u001b[1;33m\u001b[0m\u001b[0m\n\u001b[0m\u001b[0;32m      4\u001b[0m \u001b[0mX\u001b[0m\u001b[1;33m=\u001b[0m\u001b[0mX\u001b[0m\u001b[1;33m[\u001b[0m\u001b[1;33m:\u001b[0m\u001b[1;33m-\u001b[0m\u001b[0mforecast_out\u001b[0m\u001b[1;33m]\u001b[0m\u001b[1;33m\u001b[0m\u001b[1;33m\u001b[0m\u001b[0m\n\u001b[0;32m      5\u001b[0m \u001b[0mdf\u001b[0m\u001b[1;33m.\u001b[0m\u001b[0mdropna\u001b[0m\u001b[1;33m(\u001b[0m\u001b[0minplace\u001b[0m\u001b[1;33m=\u001b[0m\u001b[1;32mTrue\u001b[0m\u001b[1;33m)\u001b[0m\u001b[1;33m\u001b[0m\u001b[1;33m\u001b[0m\u001b[0m\n",
      "\u001b[1;31mNameError\u001b[0m: name 'forecast_out' is not defined"
     ]
    }
   ],
   "source": [
    "X=np.array(df.drop(['label'],1))\n",
    "X=preprocessing.scale(X)\n",
    "X_lately=X[-forecast_out:]\n",
    "X=X[:-forecast_out]\n",
    "df.dropna(inplace=True)\n",
    "y=np.array(df['label'])\n",
    "X_train, X_test, y_train, y_test = train_test_split(X,y,test_size=0.2)\n",
    "clf=LinearRegression(n_jobs=-1)\n",
    "clf.fit(X_train, y_train)\n",
    "con=clf.score(X_test, y_test)\n",
    "forecast_set=clf.predict(X_lately)\n",
    "print(forecast_set,con)"
   ]
  },
  {
   "cell_type": "code",
   "execution_count": 10,
   "metadata": {},
   "outputs": [
    {
     "name": "stdout",
     "output_type": "stream",
     "text": [
      "entervalue9\n",
      "2\n",
      "3\n",
      "5\n",
      "7\n"
     ]
    }
   ],
   "source": [
    "n=int(input(\"entervalue\"))\n",
    "for i in range(2,n):\n",
    "    prime=1;\n",
    "    for j in range(2,i):\n",
    "        if(i%j==0):\n",
    "            prime=0\n",
    "            break\n",
    "    if(prime):\n",
    "        print(i)\n",
    "\n"
   ]
  },
  {
   "cell_type": "code",
   "execution_count": 9,
   "metadata": {},
   "outputs": [
    {
     "name": "stdout",
     "output_type": "stream",
     "text": [
      "2\n",
      "18\n",
      "42\n"
     ]
    }
   ],
   "source": [
    "n= int(input(\"\"))\n",
    "for i in range(n):\n",
    "    \n",
    "    inp=int(input(\"\"))\n",
    "    \n",
    "    def switch():\n",
    "        t=inp%12\n",
    "        \n",
    "        if t==0:\n",
    "            print(\"WS\",(inp-11))\n",
    "            \n",
    "        \n",
    "        elif t==1:\n",
    "            print(\"WS\",(inp+11))\n",
    "            \n",
    "        elif t==2:\n",
    "            print(\"MS\",(inp+9))\n",
    "            \n",
    "        elif t==3:\n",
    "            print(\"AS\",(inp+7))\n",
    "            \n",
    "        elif t==4:\n",
    "            print(\"AS\",(inp+5))\n",
    "    \n",
    "        elif t==5:\n",
    "            print(\"MS\",(inp+3))\n",
    "        elif t==6:\n",
    "            print(\"WS\",(inp+1))\n",
    "    \n",
    "        elif t==7:\n",
    "            print(\"WS\",(inp-1))\n",
    "        \n",
    "        elif t==8:\n",
    "            print(\"MS\",(inp-3))\n",
    "        \n",
    "        elif t==9:\n",
    "            print(\"AS\",(inp-5))\n",
    "        \n",
    "        elif t==10:\n",
    "            print(\"AS\",(inp-7))\n",
    "        \n",
    "        elif t==11:\n",
    "            print(\"MS\",(inp-9))\n"
   ]
  },
  {
   "cell_type": "code",
   "execution_count": 12,
   "metadata": {},
   "outputs": [
    {
     "name": "stdout",
     "output_type": "stream",
     "text": [
      "2\n",
      "5\n"
     ]
    }
   ],
   "source": [
    "n= int(input(\"\"))\n",
    "for i in  range(1,n):\n",
    "    ip=int(input(\"\"))\n",
    "    def case0():\n",
    "        return (\"Ws\",(ip-11))\n",
    "    def case1():\n",
    "        return (\"Ws\",(ip+11))\n",
    "    def case2():\n",
    "        return (\"Ms\",(ip+9))\n",
    "    def case3():\n",
    "        return (\"As\",(ip+7))\n",
    "    def case4():\n",
    "        return (\"As\",(ip+5))\n",
    "    def case5():\n",
    "        return (\"Ms\",(ip+3))\n",
    "    def case6():\n",
    "        return (\"Ws\",(ip+1))\n",
    "    def case7():\n",
    "        return (\"Ws\",(ip-1))\n",
    "    def case8():\n",
    "        return (\"Ms\",(ip-3))\n",
    "    def case9():\n",
    "        return (\"Ws\",(ip-5))\n",
    "    def case10():\n",
    "        return (\"Ws\",(ip-7))\n",
    "    def case11():\n",
    "        return (\"Ws\",(ip-9))\n",
    "    def switch(t):\n",
    "        switch={0:\"case0\",\n",
    "               1:\"case1\",\n",
    "               2:\"case2\",\n",
    "               3:\"case3\",\n",
    "               4:\"case4\",\n",
    "               5:\"case5\",\n",
    "               6:\"case6\",\n",
    "               7:\"case7\",\n",
    "               8:\"case8\",\n",
    "               9:\"case9\",\n",
    "               10:\"case10\",\n",
    "               11:\"case11\"}\n",
    "        switch.get(t=ip%12)()"
   ]
  },
  {
   "cell_type": "code",
   "execution_count": 13,
   "metadata": {},
   "outputs": [
    {
     "name": "stdout",
     "output_type": "stream",
     "text": [
      "2\n",
      "18\n"
     ]
    }
   ],
   "source": [
    "n= int(input(\"\"))\n",
    "for i in  range(1,n):\n",
    "    ip=int(input(\"\"))\n",
    "    def switch(t):\n",
    "        switch={0:\"case0\",\n",
    "               1:\"case1\",\n",
    "               2:\"case2\",\n",
    "               3:\"case3\",\n",
    "               4:\"case4\",\n",
    "               5:\"case5\",\n",
    "               6:\"case6\",\n",
    "               7:\"case7\",\n",
    "               8:\"case8\",\n",
    "               9:\"case9\",\n",
    "               10:\"case10\",\n",
    "               11:\"case11\"}\n",
    "    def case0():\n",
    "        return (\"Ws\",(ip-11))\n",
    "    def case1():\n",
    "        return (\"Ws\",(ip+11))\n",
    "    def case2():\n",
    "        return (\"Ms\",(ip+9))\n",
    "    def case3():\n",
    "        return (\"As\",(ip+7))\n",
    "    def case4():\n",
    "        return (\"As\",(ip+5))\n",
    "    def case5():\n",
    "        return (\"Ms\",(ip+3))\n",
    "    def case6():\n",
    "        return (\"Ws\",(ip+1))\n",
    "    def case7():\n",
    "        return (\"Ws\",(ip-1))\n",
    "    def case8():\n",
    "        return (\"Ms\",(ip-3))\n",
    "    def case9():\n",
    "        return (\"Ws\",(ip-5))\n",
    "    def case10():\n",
    "        return (\"Ws\",(ip-7))\n",
    "    def case11():\n",
    "        return (\"Ws\",(ip-9))\n",
    "        switch.get(t=ip%12)()\n",
    "    "
   ]
  },
  {
   "cell_type": "code",
   "execution_count": 38,
   "metadata": {},
   "outputs": [
    {
     "name": "stdout",
     "output_type": "stream",
     "text": [
      " 33 33 \n",
      "3  3  3\n",
      "3     3\n",
      " 3   3 \n",
      "  3 3  \n",
      "   3   \n"
     ]
    }
   ],
   "source": [
    "for i in range(6):\n",
    "    for j in range(7):\n",
    "        if (i==0 and (j%3)!=0) or (i==1 and (j%3)==0) or (i-j==2)or(i+j==8):\n",
    "        \n",
    "            print(\"3\", end=\"\")\n",
    "        else:\n",
    "            print(end=\" \")\n",
    "    print()       "
   ]
  },
  {
   "cell_type": "code",
   "execution_count": 57,
   "metadata": {},
   "outputs": [
    {
     "name": "stdout",
     "output_type": "stream",
     "text": [
      "* * * * *  \n",
      "*    *  \n",
      "*   *   \n",
      "*  *    \n",
      "* *     \n",
      "*      \n"
     ]
    }
   ],
   "source": [
    "for i in range(6):\n",
    "    for j in range(5):\n",
    "        if(i==0)or(j==0) or (i+j==5):\n",
    "            print(\"*\",end=\" \")\n",
    "        else:\n",
    "            print(end=\" \")\n",
    "    print(\" \")        "
   ]
  },
  {
   "cell_type": "code",
   "execution_count": 6,
   "metadata": {},
   "outputs": [
    {
     "name": "stdout",
     "output_type": "stream",
     "text": [
      "4444\n",
      "333\n",
      "22\n",
      "1\n"
     ]
    }
   ],
   "source": [
    "for i in range(4,0,-1):\n",
    "    for j in range(1,i+1):\n",
    "        print(i,end=\"\",sep=\"\")\n",
    "    print()    "
   ]
  },
  {
   "cell_type": "code",
   "execution_count": 16,
   "metadata": {},
   "outputs": [
    {
     "name": "stdout",
     "output_type": "stream",
     "text": [
      "enter value4\n",
      "   1\n",
      "  212\n",
      " 32123\n",
      "4321234\n"
     ]
    }
   ],
   "source": [
    "n= int(input(\"enter value\"))\n",
    "for i in range(1,n+1):\n",
    "    for j in range(n-i):\n",
    "        print(end=\" \")\n",
    "    for j in range(i,0,-1):\n",
    "        print(j,end=\"\",sep=\"\")\n",
    "    for j in range(2,i+1):\n",
    "        print(j,end=\"\",sep=\"\")\n",
    "    print()    "
   ]
  },
  {
   "cell_type": "code",
   "execution_count": 7,
   "metadata": {},
   "outputs": [
    {
     "name": "stdout",
     "output_type": "stream",
     "text": [
      "enter value5\n",
      "       \n",
      "     *  \n",
      "    * *  \n",
      "   * * *  \n",
      "  * * * *  \n"
     ]
    }
   ],
   "source": [
    "n= int(input(\"enter value\"))\n",
    "for i in range(n):\n",
    "    for j in range(n-i+1):\n",
    "        print(end=\" \")\n",
    "    for j in range(i):\n",
    "        print(\"*\",end=\" \")\n",
    "    print(\" \")    "
   ]
  },
  {
   "cell_type": "code",
   "execution_count": 25,
   "metadata": {},
   "outputs": [
    {
     "name": "stdout",
     "output_type": "stream",
     "text": [
      "enter value5\n",
      "\n",
      "1\n",
      "23\n",
      "456\n",
      "78910\n"
     ]
    }
   ],
   "source": [
    "n=int(input(\"enter value\"))\n",
    "a=1\n",
    "for i in range(n):\n",
    "    for j in range(i):\n",
    "        print(a,end=\"\",sep=\" \")\n",
    "        a=a+1\n",
    "    print()       "
   ]
  },
  {
   "cell_type": "code",
   "execution_count": null,
   "metadata": {},
   "outputs": [],
   "source": [
    "n= int(input(\"enter a number\"))\n",
    "'''count = 0\n",
    "for i in range(1,n//2):\n",
    "    if n%i == 0:\n",
    "        count+=1\n",
    "if count < 2 :\n",
    "    print(\"is prime\")\n",
    "else:\n",
    "    print(\"not prime\")'''\n",
    "for i in range(2,n+1):\n",
    "    for j in range(2, i+1):\n",
    "        if(i%j==0):\n",
    "            #print(end=\"\")\n",
    "            break\n",
    "    else:\n",
    "        print(i)"
   ]
  },
  {
   "cell_type": "code",
   "execution_count": 4,
   "metadata": {},
   "outputs": [
    {
     "name": "stdout",
     "output_type": "stream",
     "text": [
      "enter a number5\n",
      "#####\n",
      "####\n",
      "###\n",
      "##\n",
      "#\n"
     ]
    }
   ],
   "source": [
    "n= int(input(\"enter a number\"))\n",
    "for i in range(n,0,-1):\n",
    "    for j in range(i):\n",
    "        print(\"#\",sep=\"\",end=\"\")\n",
    "        \n",
    "    print()    \n",
    "        "
   ]
  },
  {
   "cell_type": "code",
   "execution_count": 23,
   "metadata": {},
   "outputs": [
    {
     "name": "stdout",
     "output_type": "stream",
     "text": [
      "enter number:10\n",
      "2\n",
      "3\n",
      "5\n",
      "7\n"
     ]
    }
   ],
   "source": [
    "n= int(input(\"enter number:\"))\n",
    "for i in range(2,n):\n",
    "    for j in range(2,i-1):\n",
    "        if(i%j==0):\n",
    "            break\n",
    "    else:\n",
    "        print(i)\n",
    "     \n",
    "        "
   ]
  },
  {
   "cell_type": "code",
   "execution_count": 15,
   "metadata": {},
   "outputs": [
    {
     "name": "stdout",
     "output_type": "stream",
     "text": [
      "enter a value: 3\n",
      "1 \n",
      "2 3 \n",
      "4 5 6 \n"
     ]
    }
   ],
   "source": [
    "n=int(input(\"enter a value: \"))\n",
    "a=1\n",
    "for i in range(1,n+1):\n",
    "    for j in range(1,i+1):\n",
    "        print(a, sep=\" \", end=\" \")\n",
    "        a=a+1\n",
    "    print()    "
   ]
  },
  {
   "cell_type": "code",
   "execution_count": 45,
   "metadata": {},
   "outputs": [
    {
     "name": "stdout",
     "output_type": "stream",
     "text": [
      "enter a Prime Number10\n",
      "2\n",
      "3\n",
      "5\n",
      "7\n"
     ]
    }
   ],
   "source": [
    "prime= int(input(\"enter a Prime Number\"))\n",
    "for i in range(2,prime):\n",
    "    for j in range(2,i-1):\n",
    "        if(i%j==0):\n",
    "            break\n",
    "    else:\n",
    "        print(i)\n",
    "            \n",
    "        "
   ]
  }
 ],
 "metadata": {
  "kernelspec": {
   "display_name": "Python 3",
   "language": "python",
   "name": "python3"
  },
  "language_info": {
   "codemirror_mode": {
    "name": "ipython",
    "version": 3
   },
   "file_extension": ".py",
   "mimetype": "text/x-python",
   "name": "python",
   "nbconvert_exporter": "python",
   "pygments_lexer": "ipython3",
   "version": "3.6.8"
  }
 },
 "nbformat": 4,
 "nbformat_minor": 2
}
