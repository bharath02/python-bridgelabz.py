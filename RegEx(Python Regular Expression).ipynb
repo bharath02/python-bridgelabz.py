{
 "cells": [
  {
   "cell_type": "markdown",
   "metadata": {},
   "source": [
    "# User Registration Problem\n",
    "## User Registration System needs to ensure all validations are in place during the User Entry"
   ]
  },
  {
   "cell_type": "markdown",
   "metadata": {},
   "source": [
    "# UC 1 : As a User Need to Enter a Valid First Name (first name starts with Cap and has minimum 3 characters)\n"
   ]
  },
  {
   "cell_type": "code",
   "execution_count": 1,
   "metadata": {},
   "outputs": [
    {
     "name": "stdout",
     "output_type": "stream",
     "text": [
      "Enter Your First Name : Bharath\n",
      "Bharath\n"
     ]
    }
   ],
   "source": [
    "import re\n",
    "firstName=str(input(\"Enter Your First Name : \"))\n",
    "pattern = r'^([A-Z]{1})([a-z]{2,})'\n",
    "if(re.match(pattern,firstName)):\n",
    "    print(firstName)\n",
    "else:\n",
    "    print(firstName,\"First Letter is not Captial letter and only first letter or length is of name is less than 3 \")"
   ]
  },
  {
   "cell_type": "markdown",
   "metadata": {},
   "source": [
    "# UC 2: As a User need to enter a valid Last Name Last name starts with Cap and has minimum 3 characters"
   ]
  },
  {
   "cell_type": "code",
   "execution_count": 2,
   "metadata": {},
   "outputs": [
    {
     "name": "stdout",
     "output_type": "stream",
     "text": [
      "Enter Your Last Name : Kumar\n",
      "Kumar\n"
     ]
    }
   ],
   "source": [
    "LastName=str(input(\"Enter Your Last Name : \"))\n",
    "length=len(LastName)\n",
    "if(length>=3):\n",
    "    pattern = r'^([A-Z][a-z]+)'\n",
    "    if(re.match(pattern,LastName)):\n",
    "        print(LastName)\n",
    "    else:\n",
    "        print(LastName,\"Last Letter is not Captial letter\")\n",
    "else:\n",
    "    print(\"Length is less than 3\")"
   ]
  },
  {
   "cell_type": "markdown",
   "metadata": {},
   "source": [
    "# UC 3: As a User need to enter a valid email E.g. abc.xyz@bl.co.in Email has 3 mandatory parts (abc, bl & co) and 2 optional (xyz & in) with precise @ and . positions"
   ]
  },
  {
   "cell_type": "code",
   "execution_count": 6,
   "metadata": {},
   "outputs": [
    {
     "name": "stdout",
     "output_type": "stream",
     "text": [
      "enter a email address : abc.xyz@bl.co\n",
      "abc.xyz@bl.co\n"
     ]
    }
   ],
   "source": [
    "email=input(\"enter a email address : \")\n",
    "pattern='^[a-z0-9]+[\\._]?[a-z0-9]+[@]\\w+[.]\\w{2,3}$'\n",
    "if(re.search(pattern,email)):\n",
    "    print(email)\n",
    "else:\n",
    "    print(\"Enter mailid not satisify the requirements \")"
   ]
  },
  {
   "cell_type": "markdown",
   "metadata": {},
   "source": [
    "# UC 4: As a User need to follow pre-defined Mobile Format E.g. 91 9919819801 Country code follow by space and 10 digit number "
   ]
  },
  {
   "cell_type": "code",
   "execution_count": 7,
   "metadata": {},
   "outputs": [
    {
     "name": "stdout",
     "output_type": "stream",
     "text": [
      "Enter Mobile Number : 9999988888\n",
      "9999988888\n"
     ]
    }
   ],
   "source": [
    "mobileNumber=(input(\"Enter Mobile Number : \"))\n",
    "pattern='^(\\+91[\\-\\s]?)?[0]?(91)?[789]\\d{9}$'\n",
    "if(re.match(pattern,mobileNumber)):\n",
    "    print(mobileNumber)\n",
    "else:\n",
    "    print(\"wrong mobile number\")\n",
    "    \n",
    "    "
   ]
  },
  {
   "cell_type": "markdown",
   "metadata": {},
   "source": [
    "# UC 5: As a User need to follow pre-defined Password rules. Rule1 – minimum 8 Characters NOTE – All rules must be passed"
   ]
  },
  {
   "cell_type": "code",
   "execution_count": 29,
   "metadata": {},
   "outputs": [
    {
     "name": "stdout",
     "output_type": "stream",
     "text": [
      "Enter a Password : adshhshsd\n",
      "adshhshsd\n"
     ]
    }
   ],
   "source": [
    "Password=input(\"Enter a Password : \")\n",
    "pattern='(?=^.{8,}$)((?=.*\\d)|[^0-9]*|[^A-Z]*|[^a-z]*|[a-zA-Z0-9]*)'\n",
    "if(re.match(pattern,Password)):\n",
    "    print(Password)\n",
    "    \n",
    "else:\n",
    "    print(\"Password less then 8 words\")"
   ]
  },
  {
   "cell_type": "markdown",
   "metadata": {},
   "source": [
    "# UC 6 Rule2 – Should have at least 1 Upper Case NOTE – All rules must be passed"
   ]
  },
  {
   "cell_type": "code",
   "execution_count": 31,
   "metadata": {},
   "outputs": [
    {
     "name": "stdout",
     "output_type": "stream",
     "text": [
      "Enter a Password : Bhhaaa55\n",
      "Bhhaaa55\n"
     ]
    }
   ],
   "source": [
    "Password=input(\"Enter a Password : \")\n",
    "pattern='^(?=.*[a-z])(?=.*[A-Z])(?=.*\\d)[a-zA-Z\\d]{8,}$'\n",
    "if(re.match(pattern,Password)):\n",
    "    print(Password)\n",
    "    \n",
    "else:\n",
    "    print(\"Password less then 8 words minimum one upper case\")"
   ]
  },
  {
   "cell_type": "markdown",
   "metadata": {},
   "source": [
    "# UC 7 Rule3 – Should have at least 1 numeric number in the password NOTE – All rules must be passed"
   ]
  },
  {
   "cell_type": "code",
   "execution_count": 33,
   "metadata": {},
   "outputs": [
    {
     "name": "stdout",
     "output_type": "stream",
     "text": [
      "Enter a Password : 9dkjhsjkhhdh\n",
      "9dkjhsjkhhdh\n"
     ]
    }
   ],
   "source": [
    "Password=input(\"Enter a Password : \")\n",
    "pattern='^(?=.*[A-Za-z])(?=.*\\d)[A-Za-z\\d]{8,}$'\n",
    "if(re.match(pattern,Password)):\n",
    "    print(Password)\n",
    "    \n",
    "else:\n",
    "    print(\"Password less then 8 minimum one number : \")"
   ]
  },
  {
   "cell_type": "markdown",
   "metadata": {},
   "source": [
    "# UC 8 Rule4 – Has exactly 1 Special Character NOTE – All rules must be passed"
   ]
  },
  {
   "cell_type": "code",
   "execution_count": 37,
   "metadata": {},
   "outputs": [
    {
     "name": "stdout",
     "output_type": "stream",
     "text": [
      "Enter a Password : #njdkhs12@\n",
      "#njdkhs12@\n"
     ]
    }
   ],
   "source": [
    "Password=input(\"Enter a Password : \")\n",
    "pattern='^(?=.*[A-Za-z])(?=.*\\d)(?=.*[@$!%*#?&])[A-Za-z\\d@$!%*#?&]{8,}$'\n",
    "if(re.match(pattern,Password)):\n",
    "    print(Password)\n",
    "    \n",
    "else:\n",
    "    print(\"Password less then 8 minimum one Special Symbol : \")\n",
    "    "
   ]
  },
  {
   "cell_type": "markdown",
   "metadata": {},
   "source": [
    "# UC 9 Should clear all email samples provided separately"
   ]
  },
  {
   "cell_type": "code",
   "execution_count": 41,
   "metadata": {},
   "outputs": [
    {
     "name": "stdout",
     "output_type": "stream",
     "text": [
      "Enter a Password : aB@a866ddg\n",
      "aB@a866ddg\n"
     ]
    }
   ],
   "source": [
    "Password=input(\"Enter a Password : \")\n",
    "pattern='^(?=.*[a-z])(?=.*[A-Z])(?=.*\\d)(?=.*[@$!%*?&])[A-Za-z\\d@$!%*?&]{8,10}$'\n",
    "if(re.match(pattern,Password)):\n",
    "    print(Password)\n",
    "    \n",
    "else:\n",
    "    print(\"Password less then 8 minimum one Special Symbol, Caps, small Alpha and number : \")\n",
    "    \n"
   ]
  }
 ],
 "metadata": {
  "kernelspec": {
   "display_name": "Python 3",
   "language": "python",
   "name": "python3"
  },
  "language_info": {
   "codemirror_mode": {
    "name": "ipython",
    "version": 3
   },
   "file_extension": ".py",
   "mimetype": "text/x-python",
   "name": "python",
   "nbconvert_exporter": "python",
   "pygments_lexer": "ipython3",
   "version": "3.6.8"
  }
 },
 "nbformat": 4,
 "nbformat_minor": 2
}
