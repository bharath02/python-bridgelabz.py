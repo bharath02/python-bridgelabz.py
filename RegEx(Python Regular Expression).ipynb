{
 "cells": [
  {
   "cell_type": "markdown",
   "metadata": {},
   "source": [
    "# User Registration Problem\n",
    "## User Registration System needs to ensure all validations are in place during the User Entry"
   ]
  },
  {
   "cell_type": "markdown",
   "metadata": {},
   "source": [
    "# UC 1 : As a User Need to Enter a Valid First Name (first name starts with Cap and has minimum 3 characters)\n"
   ]
  },
  {
   "cell_type": "code",
   "execution_count": 2,
   "metadata": {},
   "outputs": [
    {
     "name": "stdout",
     "output_type": "stream",
     "text": [
      "Enter Your First Name : Bharath\n",
      "Bharath\n"
     ]
    }
   ],
   "source": [
    "# Printing correct one First letter is Capital and length more then 3\n",
    "import re\n",
    "firstName=str(input(\"Enter Your First Name : \"))\n",
    "pattern = r'^([A-Z]{1})([a-z]{2,})'\n",
    "if(re.match(pattern,firstName)):\n",
    "    print(firstName)\n",
    "else:\n",
    "    print(firstName,\"First Letter is not Captial letter and only first letter or length is of name is less than 3 \")"
   ]
  },
  {
   "cell_type": "code",
   "execution_count": 3,
   "metadata": {},
   "outputs": [
    {
     "name": "stdout",
     "output_type": "stream",
     "text": [
      "Enter Your First Name : bharat\n",
      "bharat First Letter is not Captial letter and only first letter or length is of name is less than 3 \n"
     ]
    }
   ],
   "source": [
    "# Lower case letters error statement\n",
    "\n",
    "firstName=str(input(\"Enter Your First Name : \"))\n",
    "pattern = r'^([A-Z]{1})([a-z]{2,})'\n",
    "if(re.match(pattern,firstName)):\n",
    "    print(firstName)\n",
    "else:\n",
    "    print(firstName,\"First Letter is not Captial letter and only first letter or length is of name is less than 3 \")"
   ]
  },
  {
   "cell_type": "code",
   "execution_count": 4,
   "metadata": {},
   "outputs": [
    {
     "name": "stdout",
     "output_type": "stream",
     "text": [
      "Enter Your First Name : Bh\n",
      "Bh First Letter is not Captial letter and only first letter or length is of name is less than 3 \n"
     ]
    }
   ],
   "source": [
    "# less than three letters error\n",
    "\n",
    "firstName=str(input(\"Enter Your First Name : \"))\n",
    "pattern = r'^([A-Z]{1})([a-z]{2,})'\n",
    "if(re.match(pattern,firstName)):\n",
    "    print(firstName)\n",
    "else:\n",
    "    print(firstName,\"First Letter is not Captial letter and only first letter or length is of name is less than 3 \")"
   ]
  },
  {
   "cell_type": "markdown",
   "metadata": {},
   "source": [
    "# UC 2: As a User need to enter a valid Last Name Last name starts with Cap and has minimum 3 characters"
   ]
  },
  {
   "cell_type": "code",
   "execution_count": 6,
   "metadata": {},
   "outputs": [
    {
     "name": "stdout",
     "output_type": "stream",
     "text": [
      "Enter Your Last Name : bharath Kumar\n",
      "bharath Kumar\n"
     ]
    }
   ],
   "source": [
    "# last name is Capital Letter\n",
    "\n",
    "LastName=str(input(\"Enter Your Last Name : \"))\n",
    "length=len(LastName)\n",
    "pattern = r'([a-z]+)(\\s)([A-Z]{1})([a-z]+){3}'\n",
    "if(re.match(pattern,LastName)):\n",
    "    print(LastName)\n",
    "else:\n",
    "    print(LastName,\"Last Letter is not Captial letter\")"
   ]
  },
  {
   "cell_type": "code",
   "execution_count": 7,
   "metadata": {},
   "outputs": [
    {
     "name": "stdout",
     "output_type": "stream",
     "text": [
      "Enter Your Last Name : bharath kumar\n",
      "bharath kumar Last Letter is not Captial letter\n"
     ]
    }
   ],
   "source": [
    "# last name with lower case error\n",
    "\n",
    "LastName=str(input(\"Enter Your Last Name : \"))\n",
    "length=len(LastName)\n",
    "pattern = r'([a-z]+)(\\s)([A-Z]{1})([a-z]+){3}'\n",
    "if(re.match(pattern,LastName)):\n",
    "    print(LastName)\n",
    "else:\n",
    "    print(LastName,\"Last Letter is not Captial letter\")"
   ]
  },
  {
   "cell_type": "code",
   "execution_count": 9,
   "metadata": {},
   "outputs": [
    {
     "name": "stdout",
     "output_type": "stream",
     "text": [
      "Enter Your Last Name : bharath Ku\n",
      "bharath Ku Last Letter is not Captial letter and less then 3 letter\n"
     ]
    }
   ],
   "source": [
    "# Less then 2 words of last name error \n",
    "LastName=str(input(\"Enter Your Last Name : \"))\n",
    "length=len(LastName)\n",
    "pattern = r'([a-z]+)(\\s)([A-Z]{1})([a-z]+){3}'\n",
    "if(re.match(pattern,LastName)):\n",
    "    print(LastName)\n",
    "else:\n",
    "    print(LastName,\"Last Letter is not Captial letter and less then 3 letter\")"
   ]
  },
  {
   "cell_type": "markdown",
   "metadata": {},
   "source": [
    "# UC 3: As a User need to enter a valid email E.g. abc.xyz@bl.co.in Email has 3 mandatory parts (abc, bl & co) and 2 optional (xyz & in) with precise @ and . positions"
   ]
  },
  {
   "cell_type": "code",
   "execution_count": 10,
   "metadata": {},
   "outputs": [
    {
     "name": "stdout",
     "output_type": "stream",
     "text": [
      "enter a email address : abc.xml@gmail.com\n",
      "abc.xml@gmail.com\n"
     ]
    }
   ],
   "source": [
    "# Enter correct mail id\n",
    "\n",
    "email=input(\"enter a email address : \")\n",
    "pattern='^[a-z0-9]+[\\._]?[a-z0-9]+[@]\\w+[.]\\w{2,3}$'\n",
    "if(re.search(pattern,email)):\n",
    "    print(email)\n",
    "else:\n",
    "    print(\"Enter mailid not satisify the requirements \")"
   ]
  },
  {
   "cell_type": "code",
   "execution_count": 11,
   "metadata": {},
   "outputs": [
    {
     "name": "stdout",
     "output_type": "stream",
     "text": [
      "enter a email address : abc@gmail.com\n",
      "abc@gmail.com\n"
     ]
    }
   ],
   "source": [
    "# Enter correct mail id\n",
    "\n",
    "email=input(\"enter a email address : \")\n",
    "pattern='^[a-z0-9]+[\\._]?[a-z0-9]+[@]\\w+[.]\\w{2,3}$'\n",
    "if(re.search(pattern,email)):\n",
    "    print(email)\n",
    "else:\n",
    "    print(\"Enter mailid not satisify the requirements \")"
   ]
  },
  {
   "cell_type": "code",
   "execution_count": 12,
   "metadata": {},
   "outputs": [
    {
     "name": "stdout",
     "output_type": "stream",
     "text": [
      "enter a email address : abc.xml$com\n",
      "Enter mailid not satisify the requirements \n"
     ]
    }
   ],
   "source": [
    "# Enter wrong mail id\n",
    "\n",
    "email=input(\"enter a email address : \")\n",
    "pattern='^[a-z0-9]+[\\._]?[a-z0-9]+[@]\\w+[.]\\w{2,3}$'\n",
    "if(re.search(pattern,email)):\n",
    "    print(email)\n",
    "else:\n",
    "    print(\"Enter mailid not satisify the requirements \")"
   ]
  },
  {
   "cell_type": "code",
   "execution_count": 13,
   "metadata": {},
   "outputs": [
    {
     "name": "stdout",
     "output_type": "stream",
     "text": [
      "enter a email address : abc.xml@kkcom\n",
      "Enter mailid not satisify the requirements \n"
     ]
    }
   ],
   "source": [
    "# Enter wrong mail id\n",
    "\n",
    "email=input(\"enter a email address : \")\n",
    "pattern='^[a-z0-9]+[\\._]?[a-z0-9]+[@]\\w+[.]\\w{2,3}$'\n",
    "if(re.search(pattern,email)):\n",
    "    print(email)\n",
    "else:\n",
    "    print(\"Enter mailid not satisify the requirements \")"
   ]
  },
  {
   "cell_type": "markdown",
   "metadata": {},
   "source": [
    "# UC 4: As a User need to follow pre-defined Mobile Format E.g. 91 9919819801 Country code follow by space and 10 digit number "
   ]
  },
  {
   "cell_type": "code",
   "execution_count": 14,
   "metadata": {},
   "outputs": [
    {
     "name": "stdout",
     "output_type": "stream",
     "text": [
      "Enter Mobile Number : 9998882233\n",
      "9998882233\n"
     ]
    }
   ],
   "source": [
    "# correct mobile number \n",
    "\n",
    "mobileNumber=(input(\"Enter Mobile Number : \"))\n",
    "pattern='^(\\+91[\\-\\s]?)?[0]?(91)?[789]\\d{9}$'\n",
    "if(re.match(pattern,mobileNumber)):\n",
    "    print(mobileNumber)\n",
    "else:\n",
    "    print(\"wrong mobile number\")\n",
    "    \n",
    "    "
   ]
  },
  {
   "cell_type": "code",
   "execution_count": 15,
   "metadata": {},
   "outputs": [
    {
     "name": "stdout",
     "output_type": "stream",
     "text": [
      "Enter Mobile Number : +919998882233\n",
      "+919998882233\n"
     ]
    }
   ],
   "source": [
    "# correct mobile number \n",
    "\n",
    "mobileNumber=(input(\"Enter Mobile Number : \"))\n",
    "pattern='^(\\+91[\\-\\s]?)?[0]?(91)?[789]\\d{9}$'\n",
    "if(re.match(pattern,mobileNumber)):\n",
    "    print(mobileNumber)\n",
    "else:\n",
    "    print(\"wrong mobile number\")\n"
   ]
  },
  {
   "cell_type": "code",
   "execution_count": 16,
   "metadata": {},
   "outputs": [
    {
     "name": "stdout",
     "output_type": "stream",
     "text": [
      "Enter Mobile Number : +91 9998882233\n",
      "+91 9998882233\n"
     ]
    }
   ],
   "source": [
    "# correct mobile number \n",
    "\n",
    "mobileNumber=(input(\"Enter Mobile Number : \"))\n",
    "pattern='^(\\+91[\\-\\s]?)?[0]?(91)?[789]\\d{9}$'\n",
    "if(re.match(pattern,mobileNumber)):\n",
    "    print(mobileNumber)\n",
    "else:\n",
    "    print(\"wrong mobile number\")\n"
   ]
  },
  {
   "cell_type": "code",
   "execution_count": 17,
   "metadata": {},
   "outputs": [
    {
     "name": "stdout",
     "output_type": "stream",
     "text": [
      "Enter Mobile Number : +91-9998882233\n",
      "+91-9998882233\n"
     ]
    }
   ],
   "source": [
    "# correct mobile number \n",
    "\n",
    "mobileNumber=(input(\"Enter Mobile Number : \"))\n",
    "pattern='^(\\+91[\\-\\s]?)?[0]?(91)?[789]\\d{9}$'\n",
    "if(re.match(pattern,mobileNumber)):\n",
    "    print(mobileNumber)\n",
    "else:\n",
    "    print(\"wrong mobile number\")\n"
   ]
  },
  {
   "cell_type": "code",
   "execution_count": 18,
   "metadata": {},
   "outputs": [
    {
     "name": "stdout",
     "output_type": "stream",
     "text": [
      "Enter Mobile Number : 91 9998882233\n",
      "wrong mobile number\n"
     ]
    }
   ],
   "source": [
    "# wrong mobile number \n",
    "\n",
    "mobileNumber=(input(\"Enter Mobile Number : \"))\n",
    "pattern='^(\\+91[\\-\\s]?)?[0]?(91)?[789]\\d{9}$'\n",
    "if(re.match(pattern,mobileNumber)):\n",
    "    print(mobileNumber)\n",
    "else:\n",
    "    print(\"wrong mobile number\")\n"
   ]
  },
  {
   "cell_type": "code",
   "execution_count": 19,
   "metadata": {},
   "outputs": [
    {
     "name": "stdout",
     "output_type": "stream",
     "text": [
      "Enter Mobile Number : 8555599221\n",
      "8555599221\n"
     ]
    }
   ],
   "source": [
    "# correct mobile number \n",
    "\n",
    "mobileNumber=(input(\"Enter Mobile Number : \"))\n",
    "pattern='^(\\+91[\\-\\s]?)?[0]?(91)?[789]\\d{9}$'\n",
    "if(re.match(pattern,mobileNumber)):\n",
    "    print(mobileNumber)\n",
    "else:\n",
    "    print(\"wrong mobile number\")\n"
   ]
  },
  {
   "cell_type": "code",
   "execution_count": 21,
   "metadata": {},
   "outputs": [
    {
     "name": "stdout",
     "output_type": "stream",
     "text": [
      "Enter Mobile Number : 5255525288\n",
      "wrong mobile number\n"
     ]
    }
   ],
   "source": [
    "# wrong mobile number \n",
    "\n",
    "mobileNumber=(input(\"Enter Mobile Number : \"))\n",
    "pattern='^(\\+91[\\-\\s]?)?[0]?(91)?[789]\\d{9}$'\n",
    "if(re.match(pattern,mobileNumber)):\n",
    "    print(mobileNumber)\n",
    "else:\n",
    "    print(\"wrong mobile number\")\n"
   ]
  },
  {
   "cell_type": "code",
   "execution_count": 22,
   "metadata": {},
   "outputs": [
    {
     "name": "stdout",
     "output_type": "stream",
     "text": [
      "Enter Mobile Number : 98566625\n",
      "wrong mobile number\n"
     ]
    }
   ],
   "source": [
    "# wrong mobile number \n",
    "\n",
    "mobileNumber=(input(\"Enter Mobile Number : \"))\n",
    "pattern='^(\\+91[\\-\\s]?)?[0]?(91)?[789]\\d{9}$'\n",
    "if(re.match(pattern,mobileNumber)):\n",
    "    print(mobileNumber)\n",
    "else:\n",
    "    print(\"wrong mobile number\")\n"
   ]
  },
  {
   "cell_type": "code",
   "execution_count": 23,
   "metadata": {},
   "outputs": [
    {
     "name": "stdout",
     "output_type": "stream",
     "text": [
      "Enter Mobile Number : 999999999999999999\n",
      "wrong mobile number\n"
     ]
    }
   ],
   "source": [
    "# wrong mobile number \n",
    "\n",
    "mobileNumber=(input(\"Enter Mobile Number : \"))\n",
    "pattern='^(\\+91[\\-\\s]?)?[0]?(91)?[789]\\d{9}$'\n",
    "if(re.match(pattern,mobileNumber)):\n",
    "    print(mobileNumber)\n",
    "else:\n",
    "    print(\"wrong mobile number\")\n"
   ]
  },
  {
   "cell_type": "markdown",
   "metadata": {},
   "source": [
    "# UC 5: As a User need to follow pre-defined Password rules. Rule1 – minimum 8 Characters NOTE – All rules must be passed"
   ]
  },
  {
   "cell_type": "code",
   "execution_count": 29,
   "metadata": {},
   "outputs": [
    {
     "name": "stdout",
     "output_type": "stream",
     "text": [
      "Enter a Password : adshhshsd\n",
      "adshhshsd\n"
     ]
    }
   ],
   "source": [
    "#Correct Password\n",
    "\n",
    "Password=input(\"Enter a Password : \")\n",
    "pattern='(?=^.{8,}$)((?=.*\\d)|[^0-9]*|[^A-Z]*|[^a-z]*|[a-zA-Z0-9]*)'\n",
    "if(re.match(pattern,Password)):\n",
    "    print(Password)\n",
    "    \n",
    "else:\n",
    "    print(\"Password less then 8 words\")"
   ]
  },
  {
   "cell_type": "code",
   "execution_count": 24,
   "metadata": {},
   "outputs": [
    {
     "name": "stdout",
     "output_type": "stream",
     "text": [
      "Enter a Password : @Df1\n",
      "Password less then 8 words\n"
     ]
    }
   ],
   "source": [
    "# with less then 8\n",
    "\n",
    "Password=input(\"Enter a Password : \")\n",
    "pattern='(?=^.{8,}$)((?=.*\\d)|[^0-9]*|[^A-Z]*|[^a-z]*|[a-zA-Z0-9]*)'\n",
    "if(re.match(pattern,Password)):\n",
    "    print(Password)\n",
    "    \n",
    "else:\n",
    "    print(\"Password less then 8 words\")"
   ]
  },
  {
   "cell_type": "markdown",
   "metadata": {},
   "source": [
    "# UC 6 Rule2 – Should have at least 1 Upper Case NOTE – All rules must be passed"
   ]
  },
  {
   "cell_type": "code",
   "execution_count": 31,
   "metadata": {},
   "outputs": [
    {
     "name": "stdout",
     "output_type": "stream",
     "text": [
      "Enter a Password : Bhhaaa55\n",
      "Bhhaaa55\n"
     ]
    }
   ],
   "source": [
    "# At least one Upper case \n",
    "\n",
    "Password=input(\"Enter a Password : \")\n",
    "pattern='^(?=.*[a-z])(?=.*[A-Z])(?=.*\\d)[a-zA-Z\\d]{8,}$'\n",
    "if(re.match(pattern,Password)):\n",
    "    print(Password)\n",
    "    \n",
    "else:\n",
    "    print(\"Password less then 8 words minimum one upper case\")"
   ]
  },
  {
   "cell_type": "code",
   "execution_count": 27,
   "metadata": {},
   "outputs": [
    {
     "name": "stdout",
     "output_type": "stream",
     "text": [
      "Enter a Password : hariKa3322\n",
      "hariKa3322\n"
     ]
    }
   ],
   "source": [
    "# At least one Upper case \n",
    "\n",
    "Password=input(\"Enter a Password : \")\n",
    "pattern='^(?=.*[a-z])(?=.*[A-Z])(?=.*\\d)[a-zA-Z\\d]{8,}$'\n",
    "if(re.match(pattern,Password)):\n",
    "    print(Password)\n",
    "    \n",
    "else:\n",
    "    print(\"Password less then 8 words minimum one upper case\")"
   ]
  },
  {
   "cell_type": "code",
   "execution_count": 28,
   "metadata": {},
   "outputs": [
    {
     "name": "stdout",
     "output_type": "stream",
     "text": [
      "Enter a Password : 899sddhks\n",
      "Password less then 8 words minimum one upper case\n"
     ]
    }
   ],
   "source": [
    "# At least one Upper case checking no upper cases\n",
    "\n",
    "Password=input(\"Enter a Password : \")\n",
    "pattern='^(?=.*[a-z])(?=.*[A-Z])(?=.*\\d)[a-zA-Z\\d]{8,}$'\n",
    "if(re.match(pattern,Password)):\n",
    "    print(Password)\n",
    "    \n",
    "else:\n",
    "    print(\"Password less then 8 words minimum one upper case\")"
   ]
  },
  {
   "cell_type": "code",
   "execution_count": 29,
   "metadata": {},
   "outputs": [
    {
     "name": "stdout",
     "output_type": "stream",
     "text": [
      "Enter a Password : BHaraTH\n",
      "Password less then 8 words minimum one upper case\n"
     ]
    }
   ],
   "source": [
    "# At least one Upper case upper case less then 8\n",
    "\n",
    "Password=input(\"Enter a Password : \")\n",
    "pattern='^(?=.*[a-z])(?=.*[A-Z])(?=.*\\d)[a-zA-Z\\d]{8,}$'\n",
    "if(re.match(pattern,Password)):\n",
    "    print(Password)\n",
    "    \n",
    "else:\n",
    "    print(\"Password less then 8 words minimum one upper case\")"
   ]
  },
  {
   "cell_type": "markdown",
   "metadata": {},
   "source": [
    "# UC 7 Rule3 – Should have at least 1 numeric number in the password NOTE – All rules must be passed"
   ]
  },
  {
   "cell_type": "code",
   "execution_count": 33,
   "metadata": {},
   "outputs": [
    {
     "name": "stdout",
     "output_type": "stream",
     "text": [
      "Enter a Password : 9dkjhsjkhhdh\n",
      "9dkjhsjkhhdh\n"
     ]
    }
   ],
   "source": [
    "# with Number\n",
    "Password=input(\"Enter a Password : \")\n",
    "pattern='^(?=.*[A-Za-z])(?=.*\\d)[A-Za-z\\d]{8,}$'\n",
    "if(re.match(pattern,Password)):\n",
    "    print(Password)\n",
    "    \n",
    "else:\n",
    "    print(\"Password less then 8 minimum one number : \")"
   ]
  },
  {
   "cell_type": "code",
   "execution_count": 30,
   "metadata": {},
   "outputs": [
    {
     "name": "stdout",
     "output_type": "stream",
     "text": [
      "Enter a Password : $hjddokleols\n",
      "Password less then 8 minimum one number : \n"
     ]
    }
   ],
   "source": [
    "# with out Number\n",
    "Password=input(\"Enter a Password : \")\n",
    "pattern='^(?=.*[A-Za-z])(?=.*\\d)[A-Za-z\\d]{8,}$'\n",
    "if(re.match(pattern,Password)):\n",
    "    print(Password)\n",
    "    \n",
    "else:\n",
    "    print(\"Password less then 8 minimum one number : \")"
   ]
  },
  {
   "cell_type": "code",
   "execution_count": 31,
   "metadata": {},
   "outputs": [
    {
     "name": "stdout",
     "output_type": "stream",
     "text": [
      "Enter a Password : 789weA\n",
      "Password less then 8 minimum one number : \n"
     ]
    }
   ],
   "source": [
    "# with Number less then 8\n",
    "Password=input(\"Enter a Password : \")\n",
    "pattern='^(?=.*[A-Za-z])(?=.*\\d)[A-Za-z\\d]{8,}$'\n",
    "if(re.match(pattern,Password)):\n",
    "    print(Password)\n",
    "    \n",
    "else:\n",
    "    print(\"Password less then 8 minimum one number : \")"
   ]
  },
  {
   "cell_type": "markdown",
   "metadata": {},
   "source": [
    "# UC 8 Rule4 – Has exactly 1 Special Character NOTE – All rules must be passed"
   ]
  },
  {
   "cell_type": "code",
   "execution_count": 37,
   "metadata": {},
   "outputs": [
    {
     "name": "stdout",
     "output_type": "stream",
     "text": [
      "Enter a Password : #njdkhs12@\n",
      "#njdkhs12@\n"
     ]
    }
   ],
   "source": [
    "# with Special character\n",
    "\n",
    "Password=input(\"Enter a Password : \")\n",
    "pattern='^(?=.*[A-Za-z])(?=.*\\d)(?=.*[@$!%*#?&])[A-Za-z\\d@$!%*#?&]{8,}$'\n",
    "if(re.match(pattern,Password)):\n",
    "    print(Password)\n",
    "    \n",
    "else:\n",
    "    print(\"Password less then 8 minimum one Special Symbol : \")\n",
    "    "
   ]
  },
  {
   "cell_type": "code",
   "execution_count": 32,
   "metadata": {},
   "outputs": [
    {
     "name": "stdout",
     "output_type": "stream",
     "text": [
      "Enter a Password : BsdhaA12\n",
      "Password less then 8 minimum one Special Symbol : \n"
     ]
    }
   ],
   "source": [
    "# without Special character\n",
    "\n",
    "Password=input(\"Enter a Password : \")\n",
    "pattern='^(?=.*[A-Za-z])(?=.*\\d)(?=.*[@$!%*#?&])[A-Za-z\\d@$!%*#?&]{8,}$'\n",
    "if(re.match(pattern,Password)):\n",
    "    print(Password)\n",
    "    \n",
    "else:\n",
    "    print(\"Password less then 8 minimum one Special Symbol : \")\n",
    "    "
   ]
  },
  {
   "cell_type": "code",
   "execution_count": 33,
   "metadata": {},
   "outputs": [
    {
     "name": "stdout",
     "output_type": "stream",
     "text": [
      "Enter a Password : @#%$kd1\n",
      "Password less then 8 minimum one Special Symbol : \n"
     ]
    }
   ],
   "source": [
    "# with Special character length less than 8\n",
    "\n",
    "Password=input(\"Enter a Password : \")\n",
    "pattern='^(?=.*[A-Za-z])(?=.*\\d)(?=.*[@$!%*#?&])[A-Za-z\\d@$!%*#?&]{8,}$'\n",
    "if(re.match(pattern,Password)):\n",
    "    print(Password)\n",
    "    \n",
    "else:\n",
    "    print(\"Password less then 8 minimum one Special Symbol : \")\n",
    "    "
   ]
  },
  {
   "cell_type": "markdown",
   "metadata": {},
   "source": [
    "# UC 9 Should clear all email samples provided separately"
   ]
  },
  {
   "cell_type": "code",
   "execution_count": 41,
   "metadata": {},
   "outputs": [
    {
     "name": "stdout",
     "output_type": "stream",
     "text": [
      "Enter a Password : aB@a866ddg\n",
      "aB@a866ddg\n"
     ]
    }
   ],
   "source": [
    "# should follow one caps, one low, one number, one spl and 8 minimum length.\n",
    "\n",
    "Password=input(\"Enter a Password : \")\n",
    "pattern='^(?=.*[a-z])(?=.*[A-Z])(?=.*\\d)(?=.*[@$!%*?&])[A-Za-z\\d@$!%*?&]{8,10}$'\n",
    "if(re.match(pattern,Password)):\n",
    "    print(Password)\n",
    "    \n",
    "else:\n",
    "    print(\"Password less then 8 minimum one Special Symbol, Caps, small Alpha and number : \")\n",
    "    \n"
   ]
  },
  {
   "cell_type": "code",
   "execution_count": 34,
   "metadata": {},
   "outputs": [
    {
     "name": "stdout",
     "output_type": "stream",
     "text": [
      "Enter a Password : @Ab1\n",
      "Password less then 8 minimum one Special Symbol, Caps, small Alpha and number : \n"
     ]
    }
   ],
   "source": [
    "# should follow one caps, one low, one number, one spl and 8 minimum length. check less then 8\n",
    "\n",
    "Password=input(\"Enter a Password : \")\n",
    "pattern='^(?=.*[a-z])(?=.*[A-Z])(?=.*\\d)(?=.*[@$!%*?&])[A-Za-z\\d@$!%*?&]{8,10}$'\n",
    "if(re.match(pattern,Password)):\n",
    "    print(Password)\n",
    "    \n",
    "else:\n",
    "    print(\"Password less then 8 minimum one Special Symbol, Caps, small Alpha and number : \")\n",
    "    "
   ]
  },
  {
   "cell_type": "code",
   "execution_count": 35,
   "metadata": {},
   "outputs": [
    {
     "name": "stdout",
     "output_type": "stream",
     "text": [
      "Enter a Password : @ghghjjjk5556\n",
      "Password less then 8 minimum one Special Symbol, Caps, small Alpha and number : \n"
     ]
    }
   ],
   "source": [
    "# should follow one caps, one low, one number, one spl and 8 minimum length. check one Caps,\n",
    "\n",
    "Password=input(\"Enter a Password : \")\n",
    "pattern='^(?=.*[a-z])(?=.*[A-Z])(?=.*\\d)(?=.*[@$!%*?&])[A-Za-z\\d@$!%*?&]{8,10}$'\n",
    "if(re.match(pattern,Password)):\n",
    "    print(Password)\n",
    "    \n",
    "else:\n",
    "    print(\"Password less then 8 minimum one Special Symbol, Caps, small Alpha and number : \")\n",
    "    "
   ]
  },
  {
   "cell_type": "code",
   "execution_count": 36,
   "metadata": {},
   "outputs": [
    {
     "name": "stdout",
     "output_type": "stream",
     "text": [
      "Enter a Password : @5555AAAAA\n",
      "Password less then 8 minimum one Special Symbol, Caps, small Alpha and number : \n"
     ]
    }
   ],
   "source": [
    "# should follow one caps, one low, one number, one spl and 8 minimum length. check lower case\n",
    "\n",
    "Password=input(\"Enter a Password : \")\n",
    "pattern='^(?=.*[a-z])(?=.*[A-Z])(?=.*\\d)(?=.*[@$!%*?&])[A-Za-z\\d@$!%*?&]{8,10}$'\n",
    "if(re.match(pattern,Password)):\n",
    "    print(Password)\n",
    "    \n",
    "else:\n",
    "    print(\"Password less then 8 minimum one Special Symbol, Caps, small Alpha and number : \")\n",
    "    "
   ]
  },
  {
   "cell_type": "code",
   "execution_count": 37,
   "metadata": {},
   "outputs": [
    {
     "name": "stdout",
     "output_type": "stream",
     "text": [
      "Enter a Password : A555aaaaaaa\n",
      "Password less then 8 minimum one Special Symbol, Caps, small Alpha and number : \n"
     ]
    }
   ],
   "source": [
    "# should follow one caps, one low, one number, one spl and 8 minimum length. Spl Charater\n",
    "\n",
    "Password=input(\"Enter a Password : \")\n",
    "pattern='^(?=.*[a-z])(?=.*[A-Z])(?=.*\\d)(?=.*[@$!%*?&])[A-Za-z\\d@$!%*?&]{8,10}$'\n",
    "if(re.match(pattern,Password)):\n",
    "    print(Password)\n",
    "    \n",
    "else:\n",
    "    print(\"Password less then 8 minimum one Special Symbol, Caps, small Alpha and number : \")\n",
    "    "
   ]
  }
 ],
 "metadata": {
  "kernelspec": {
   "display_name": "Python 3",
   "language": "python",
   "name": "python3"
  },
  "language_info": {
   "codemirror_mode": {
    "name": "ipython",
    "version": 3
   },
   "file_extension": ".py",
   "mimetype": "text/x-python",
   "name": "python",
   "nbconvert_exporter": "python",
   "pygments_lexer": "ipython3",
   "version": "3.6.8"
  }
 },
 "nbformat": 4,
 "nbformat_minor": 2
}
