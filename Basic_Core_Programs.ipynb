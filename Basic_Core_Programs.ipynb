{
 "cells": [
  {
   "cell_type": "markdown",
   "metadata": {},
   "source": [
    "# User Input and Replace String Template \n"
   ]
  },
  {
   "cell_type": "code",
   "execution_count": 4,
   "metadata": {},
   "outputs": [
    {
     "name": "stdout",
     "output_type": "stream",
     "text": [
      "Enter a Name: Bharath\n",
      "Hello Bharath How are you?\n"
     ]
    }
   ],
   "source": [
    "user_name=input(\"Enter a Name: \")               #Reading a Name \n",
    "if(len(user_name)>3):                           #Cheking length of name to be greate than 3\n",
    "    print(\"Hello\",user_name,\"How are you?\")     #Print Message\n",
    "else:                                           # Length below 3 then error\n",
    "    print(\"charater is below user name please Try again\")   # Error Message\n"
   ]
  },
  {
   "cell_type": "code",
   "execution_count": 6,
   "metadata": {},
   "outputs": [
    {
     "name": "stdout",
     "output_type": "stream",
     "text": [
      "Enter a Name: ali\n",
      "charater is below user name please Try again\n"
     ]
    }
   ],
   "source": [
    "user_name1=input(\"Enter a Name: \")              #Reading a Name\n",
    "user_name1=list(user_name1)                     #convert it in to list \n",
    "if(len(user_name1)>3):                          # check length of a list user_name1 iff it greater then 3\n",
    "    print(\"Hello\",\"\".join(user_name1),\"How are you?\") #join the user_name and print Message\n",
    "else:                                                 # list lengh is below 3\n",
    "    print(\"charater is below user name please Try again\") # print error Message\n"
   ]
  },
  {
   "cell_type": "markdown",
   "metadata": {},
   "source": [
    "# Flip Coin and print percentage of Heads and Tails"
   ]
  },
  {
   "cell_type": "code",
   "execution_count": 93,
   "metadata": {},
   "outputs": [
    {
     "name": "stdout",
     "output_type": "stream",
     "text": [
      "enter a number100\n",
      "Head of coin flip is  42.0 %\n",
      "Tail of coin flip is  57.99999999999999 %\n"
     ]
    }
   ],
   "source": [
    "import random                                                    \n",
    "number_flip=int(input(\"enter a number\"))\n",
    "count=0\n",
    "int(count)\n",
    "for i in range(0,number_flip):\n",
    "    random_value=random.randint(0,1)\n",
    "    if(random_value==0):\n",
    "        count+=1\n",
    "print(\"Head of coin flip is \", (count/n)*100,\"%\")\n",
    "print(\"Tail of coin flip is \",((n-count)/n)*100,\"%\")\n"
   ]
  },
  {
   "cell_type": "code",
   "execution_count": 6,
   "metadata": {},
   "outputs": [
    {
     "name": "stdout",
     "output_type": "stream",
     "text": [
      "['1', '2', '3', '4', '5', '6']\n",
      "1 count  162\n",
      "2 count  170\n",
      "3 count  178\n",
      "4 count  168\n",
      "5 count  164\n",
      "6 count  158\n"
     ]
    },
    {
     "data": {
      "text/plain": [
       "178"
      ]
     },
     "execution_count": 6,
     "metadata": {},
     "output_type": "execute_result"
    }
   ],
   "source": [
    "import random\n",
    "results={\n",
    "        '1':0,\n",
    "        '2':0,\n",
    "        '3':0,\n",
    "        '4':0,\n",
    "        '5':0,\n",
    "        '6':0,\n",
    "        }\n",
    "dies=list(results.keys())\n",
    "print(dies)\n",
    "for i in range(0,1000):\n",
    "    results[random.choice(dies)]+=1\n",
    "print(\"1 count \",results[\"1\"])\n",
    "print(\"2 count \",results[\"2\"])\n",
    "print(\"3 count \",results[\"3\"])\n",
    "print(\"4 count \",results[\"4\"])\n",
    "print(\"5 count \",results[\"5\"])\n",
    "print(\"6 count \",results[\"6\"])\n",
    "max(results[\"1\"], results[\"2\"],results[\"3\"], results[\"4\"],results[\"5\"], results[\"6\"])"
   ]
  },
  {
   "cell_type": "code",
   "execution_count": 57,
   "metadata": {},
   "outputs": [
    {
     "name": "stdout",
     "output_type": "stream",
     "text": [
      "Heads:  52.800000000000004\n",
      "Tails: 47.199999999999996\n"
     ]
    }
   ],
   "source": [
    "import random\n",
    "results={\n",
    "    'heads':0,\n",
    "    'tails':0,\n",
    "}\n",
    "sides=list(results.keys())\n",
    "for i in range(1000):\n",
    "    results[random.choice(sides)]+=1\n",
    "print('Heads: ', (results['heads']/1000)*100)\n",
    "print('Tails:', (results['tails']/1000)*100)"
   ]
  },
  {
   "cell_type": "markdown",
   "metadata": {},
   "source": [
    "# Leap Year"
   ]
  },
  {
   "cell_type": "code",
   "execution_count": 2,
   "metadata": {},
   "outputs": [
    {
     "name": "stdout",
     "output_type": "stream",
     "text": [
      "Enter a Year: 25500\n",
      "25500 not a year and should be 4 digits\n"
     ]
    }
   ],
   "source": [
    "year=int(input(\"Enter a Year: \"))\n",
    "if(year>999 and year<9999):\n",
    "    if(year%400==0 or(year%4==0 and year!=100)):\n",
    "        print(year ,\"is leap Year\")\n",
    "    else: \n",
    "        print(year,\"Not Leap Year\")\n",
    "else: \n",
    "        print(year,\"not a year and should be 4 digits\")"
   ]
  },
  {
   "cell_type": "code",
   "execution_count": 84,
   "metadata": {},
   "outputs": [
    {
     "name": "stdout",
     "output_type": "stream",
     "text": [
      "Enter a Year: 999\n",
      "999 Not Leap Year\n"
     ]
    }
   ],
   "source": [
    "year1=int(input(\"Enter a Year: \"))\n",
    "def leapyear(year):\n",
    "    if(year>999):\n",
    "        if(year1%4==0):\n",
    "            if(year1%100==0):\n",
    "                if(year1%400==0):\n",
    "                    return True\n",
    "                else:\n",
    "                    return False\n",
    "            else:\n",
    "                return True\n",
    "        else:\n",
    "            return False\n",
    "    else:\n",
    "        return False\n",
    "if(leapyear(year1)):\n",
    "    print(year1,\"Leap Year\")\n",
    "else:\n",
    "    print(year1,\"Not Leap Year\")\n",
    "        "
   ]
  },
  {
   "cell_type": "markdown",
   "metadata": {},
   "source": [
    "# Power of 2"
   ]
  },
  {
   "cell_type": "code",
   "execution_count": 89,
   "metadata": {},
   "outputs": [
    {
     "name": "stdout",
     "output_type": "stream",
     "text": [
      "Enter a Number21\n",
      "1 2 4 8 16 32 64 128 256 512 1024 2048 4096 8192 16384 32768 65536 131072 262144 524288 1048576 "
     ]
    }
   ],
   "source": [
    "N= int(input(\"Enter a Number: \"))\n",
    "if(N>=0 and N<31):\n",
    "    for i in range(N):\n",
    "        print(2**i,end=\" \")\n",
    "else:\n",
    "    print(N,\"Value Should lies Between 0 to 30\")"
   ]
  },
  {
   "cell_type": "code",
   "execution_count": 8,
   "metadata": {},
   "outputs": [
    {
     "name": "stdout",
     "output_type": "stream",
     "text": [
      "Enter a Number: 22\n",
      "2 Power of  0 = 1\n",
      "2 Power of  1 = 2\n",
      "2 Power of  2 = 4\n",
      "2 Power of  3 = 8\n",
      "2 Power of  4 = 16\n",
      "2 Power of  5 = 32\n",
      "2 Power of  6 = 64\n",
      "2 Power of  7 = 128\n",
      "2 Power of  8 = 256\n",
      "2 Power of  9 = 512\n",
      "2 Power of  10 = 1024\n",
      "2 Power of  11 = 2048\n",
      "2 Power of  12 = 4096\n",
      "2 Power of  13 = 8192\n",
      "2 Power of  14 = 16384\n",
      "2 Power of  15 = 32768\n",
      "2 Power of  16 = 65536\n",
      "2 Power of  17 = 131072\n",
      "2 Power of  18 = 262144\n",
      "2 Power of  19 = 524288\n",
      "2 Power of  20 = 1048576\n",
      "2 Power of  21 = 2097152\n"
     ]
    }
   ],
   "source": [
    "N= int(input(\"Enter a Number: \"))\n",
    "if(N>=0 and N<31):\n",
    "    for i in range(N):\n",
    "        print(\"2 Power of \",i,\"=\", 2**i)\n",
    "    #print( )\n",
    "else:\n",
    "    print(N,\"Value Should lies Between 0 to 30\")\n"
   ]
  },
  {
   "cell_type": "code",
   "execution_count": 91,
   "metadata": {},
   "outputs": [
    {
     "name": "stdout",
     "output_type": "stream",
     "text": [
      "Enter a value2\n",
      "Enter a value30\n",
      "1073741824\n"
     ]
    }
   ],
   "source": [
    "def Power(x,y):\n",
    "    if(y==0):\n",
    "        return 1\n",
    "    elif(int(y%2)==0):\n",
    "        return (Power(x,int(y/2))*Power(x,int(y/2)))\n",
    "    else:\n",
    "        return x*(Power(x,int(y/2))*Power(x,int(y/2)))\n",
    "x=int(input(\"Enter a value\"))\n",
    "y=int(input(\"Enter a value\"))\n",
    "print(Power(x,y))"
   ]
  },
  {
   "cell_type": "markdown",
   "metadata": {},
   "source": [
    "# Harmonic Number\n"
   ]
  },
  {
   "cell_type": "code",
   "execution_count": 95,
   "metadata": {},
   "outputs": [
    {
     "name": "stdout",
     "output_type": "stream",
     "text": [
      "enter a range for Harmonic Number22\n",
      "N Number of Harmonic Number is:  3.6453587047627294\n"
     ]
    }
   ],
   "source": [
    "harmonic_number=int(input(\"enter a range for Harmonic Number\"))\n",
    "sum_har=0\n",
    "for i in range(1, harmonic_number):\n",
    "    sum_har=sum_har+1/i\n",
    "    \n",
    "print(\"N Number of Harmonic Number is: \",sum_har)\n",
    "                "
   ]
  },
  {
   "cell_type": "code",
   "execution_count": 105,
   "metadata": {},
   "outputs": [
    {
     "name": "stdout",
     "output_type": "stream",
     "text": [
      "enter a range for Harmonic Number22\n",
      "3.690813250217275\n"
     ]
    }
   ],
   "source": [
    "def Harmonic_Number(N):\n",
    "    \n",
    "    if(N>0 and N==1):\n",
    "        return 1\n",
    "    return (1/N)+Harmonic_Number(N-1)\n",
    "harmonic_number1=int(input(\"enter a range for Harmonic Number\"))\n",
    "print(Harmonic_Number(harmonic_number1))\n"
   ]
  },
  {
   "cell_type": "markdown",
   "metadata": {},
   "source": [
    "# Factors"
   ]
  },
  {
   "cell_type": "code",
   "execution_count": 22,
   "metadata": {},
   "outputs": [
    {
     "name": "stdout",
     "output_type": "stream",
     "text": [
      "enter a value: 45\n",
      "3 3 5 "
     ]
    }
   ],
   "source": [
    "import math\n",
    "def PrimeFactors(N):\n",
    "    while(N%2==0):\n",
    "        print(2,end=\" \")\n",
    "        N=N/2\n",
    "    for i in range(3,int(math.sqrt(N))+1,2):\n",
    "        while(N%i==0):\n",
    "            print(i,end=\" \")\n",
    "            N=N/i\n",
    "    if(N>2):\n",
    "        print(int(N),end=\" \")\n",
    "Number=int(input(\"enter a value: \"))\n",
    "\n",
    "PrimeFactors(Number)"
   ]
  }
 ],
 "metadata": {
  "kernelspec": {
   "display_name": "Python 3",
   "language": "python",
   "name": "python3"
  },
  "language_info": {
   "codemirror_mode": {
    "name": "ipython",
    "version": 3
   },
   "file_extension": ".py",
   "mimetype": "text/x-python",
   "name": "python",
   "nbconvert_exporter": "python",
   "pygments_lexer": "ipython3",
   "version": "3.6.8"
  }
 },
 "nbformat": 4,
 "nbformat_minor": 2
}
