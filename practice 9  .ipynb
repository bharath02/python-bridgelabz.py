{
 "cells": [
  {
   "cell_type": "code",
   "execution_count": 14,
   "metadata": {},
   "outputs": [
    {
     "data": {
      "text/html": [
       "<div>\n",
       "<style scoped>\n",
       "    .dataframe tbody tr th:only-of-type {\n",
       "        vertical-align: middle;\n",
       "    }\n",
       "\n",
       "    .dataframe tbody tr th {\n",
       "        vertical-align: top;\n",
       "    }\n",
       "\n",
       "    .dataframe thead th {\n",
       "        text-align: right;\n",
       "    }\n",
       "</style>\n",
       "<table border=\"1\" class=\"dataframe\">\n",
       "  <thead>\n",
       "    <tr style=\"text-align: right;\">\n",
       "      <th></th>\n",
       "      <th>Unnamed: 0</th>\n",
       "      <th>Weight</th>\n",
       "      <th>203.615021712</th>\n",
       "      <th>121.021256815</th>\n",
       "      <th>102.797881821</th>\n",
       "      <th>96.8308228425</th>\n",
       "      <th>85.1337376818</th>\n",
       "      <th>82.7638081862</th>\n",
       "      <th>79.8350001426</th>\n",
       "      <th>77.6664196111</th>\n",
       "      <th>74.6070181251</th>\n",
       "      <th>73.1094103855</th>\n",
       "      <th>69.0965599529</th>\n",
       "      <th>68.1365878361</th>\n",
       "      <th>66.4803049535</th>\n",
       "      <th>64.5130880771</th>\n",
       "      <th>63.5694364795</th>\n",
       "    </tr>\n",
       "  </thead>\n",
       "  <tbody>\n",
       "    <tr>\n",
       "      <th>0</th>\n",
       "      <td>Movie ID</td>\n",
       "      <td>Title</td>\n",
       "      <td>NaN</td>\n",
       "      <td>NaN</td>\n",
       "      <td>NaN</td>\n",
       "      <td>NaN</td>\n",
       "      <td>NaN</td>\n",
       "      <td>NaN</td>\n",
       "      <td>NaN</td>\n",
       "      <td>NaN</td>\n",
       "      <td>NaN</td>\n",
       "      <td>NaN</td>\n",
       "      <td>NaN</td>\n",
       "      <td>NaN</td>\n",
       "      <td>NaN</td>\n",
       "      <td>NaN</td>\n",
       "      <td>NaN</td>\n",
       "    </tr>\n",
       "    <tr>\n",
       "      <th>1</th>\n",
       "      <td>11</td>\n",
       "      <td>Star Wars: Episode IV - A New Hope (1977)</td>\n",
       "      <td>-0.106651</td>\n",
       "      <td>-0.094401</td>\n",
       "      <td>0.199949</td>\n",
       "      <td>0.025196</td>\n",
       "      <td>-0.064437</td>\n",
       "      <td>0.276259</td>\n",
       "      <td>-0.206928</td>\n",
       "      <td>0.054093</td>\n",
       "      <td>-0.025950</td>\n",
       "      <td>-0.088964</td>\n",
       "      <td>-0.117164</td>\n",
       "      <td>0.104474</td>\n",
       "      <td>0.049532</td>\n",
       "      <td>0.140639</td>\n",
       "      <td>-0.031206</td>\n",
       "    </tr>\n",
       "    <tr>\n",
       "      <th>2</th>\n",
       "      <td>12</td>\n",
       "      <td>Finding Nemo (2003)</td>\n",
       "      <td>-0.023980</td>\n",
       "      <td>-0.026960</td>\n",
       "      <td>-0.038067</td>\n",
       "      <td>0.248296</td>\n",
       "      <td>-0.118894</td>\n",
       "      <td>-0.068092</td>\n",
       "      <td>0.064117</td>\n",
       "      <td>0.037390</td>\n",
       "      <td>-0.082457</td>\n",
       "      <td>0.037841</td>\n",
       "      <td>-0.067603</td>\n",
       "      <td>-0.017252</td>\n",
       "      <td>-0.069223</td>\n",
       "      <td>0.063107</td>\n",
       "      <td>0.159913</td>\n",
       "    </tr>\n",
       "    <tr>\n",
       "      <th>3</th>\n",
       "      <td>13</td>\n",
       "      <td>Forrest Gump (1994)</td>\n",
       "      <td>-0.157042</td>\n",
       "      <td>-0.039889</td>\n",
       "      <td>-0.224400</td>\n",
       "      <td>0.062452</td>\n",
       "      <td>0.098026</td>\n",
       "      <td>0.078255</td>\n",
       "      <td>-0.047104</td>\n",
       "      <td>0.147743</td>\n",
       "      <td>-0.100540</td>\n",
       "      <td>-0.018727</td>\n",
       "      <td>0.076231</td>\n",
       "      <td>0.016129</td>\n",
       "      <td>-0.040507</td>\n",
       "      <td>-0.275025</td>\n",
       "      <td>-0.052564</td>\n",
       "    </tr>\n",
       "    <tr>\n",
       "      <th>4</th>\n",
       "      <td>14</td>\n",
       "      <td>American Beauty (1999)</td>\n",
       "      <td>-0.044468</td>\n",
       "      <td>0.198715</td>\n",
       "      <td>-0.006577</td>\n",
       "      <td>0.008760</td>\n",
       "      <td>0.056093</td>\n",
       "      <td>-0.020370</td>\n",
       "      <td>-0.046150</td>\n",
       "      <td>0.007244</td>\n",
       "      <td>0.008791</td>\n",
       "      <td>-0.067562</td>\n",
       "      <td>0.063375</td>\n",
       "      <td>-0.177547</td>\n",
       "      <td>-0.100531</td>\n",
       "      <td>0.068353</td>\n",
       "      <td>-0.085437</td>\n",
       "    </tr>\n",
       "  </tbody>\n",
       "</table>\n",
       "</div>"
      ],
      "text/plain": [
       "  Unnamed: 0                                     Weight  203.615021712  \\\n",
       "0   Movie ID                                      Title            NaN   \n",
       "1         11  Star Wars: Episode IV - A New Hope (1977)      -0.106651   \n",
       "2         12                        Finding Nemo (2003)      -0.023980   \n",
       "3         13                        Forrest Gump (1994)      -0.157042   \n",
       "4         14                     American Beauty (1999)      -0.044468   \n",
       "\n",
       "   121.021256815  102.797881821  96.8308228425  85.1337376818  82.7638081862  \\\n",
       "0            NaN            NaN            NaN            NaN            NaN   \n",
       "1      -0.094401       0.199949       0.025196      -0.064437       0.276259   \n",
       "2      -0.026960      -0.038067       0.248296      -0.118894      -0.068092   \n",
       "3      -0.039889      -0.224400       0.062452       0.098026       0.078255   \n",
       "4       0.198715      -0.006577       0.008760       0.056093      -0.020370   \n",
       "\n",
       "   79.8350001426  77.6664196111  74.6070181251  73.1094103855  69.0965599529  \\\n",
       "0            NaN            NaN            NaN            NaN            NaN   \n",
       "1      -0.206928       0.054093      -0.025950      -0.088964      -0.117164   \n",
       "2       0.064117       0.037390      -0.082457       0.037841      -0.067603   \n",
       "3      -0.047104       0.147743      -0.100540      -0.018727       0.076231   \n",
       "4      -0.046150       0.007244       0.008791      -0.067562       0.063375   \n",
       "\n",
       "   68.1365878361  66.4803049535  64.5130880771  63.5694364795  \n",
       "0            NaN            NaN            NaN            NaN  \n",
       "1       0.104474       0.049532       0.140639      -0.031206  \n",
       "2      -0.017252      -0.069223       0.063107       0.159913  \n",
       "3       0.016129      -0.040507      -0.275025      -0.052564  \n",
       "4      -0.177547      -0.100531       0.068353      -0.085437  "
      ]
     },
     "execution_count": 14,
     "metadata": {},
     "output_type": "execute_result"
    }
   ],
   "source": [
    "import pandas as pd\n",
    "import numpy as np\n",
    "\n",
    "data = pd.read_csv(\"C:/Users/bhara/Desktop/Movie-matrix2.csv\", header=1)\n",
    "data.head()"
   ]
  },
  {
   "cell_type": "code",
   "execution_count": 1,
   "metadata": {},
   "outputs": [
    {
     "name": "stdout",
     "output_type": "stream",
     "text": [
      "[0, 2, 3, 4, 5, 6, 21, 22, 24, 10, 11, 15]\n"
     ]
    }
   ],
   "source": [
    "import operator\n",
    " \n",
    "li= [1,21,22,24,10,11,15]\n",
    "operator.setitem(li,slice(1),(0,2,3,4,5,6))\n",
    "print(li)  "
   ]
  },
  {
   "cell_type": "code",
   "execution_count": 16,
   "metadata": {},
   "outputs": [
    {
     "name": "stdout",
     "output_type": "stream",
     "text": [
      "0 1\n",
      "1\n",
      "2\n",
      "3\n",
      "5\n",
      "8\n",
      "13\n",
      "21\n",
      "34\n",
      "55\n",
      "89\n"
     ]
    }
   ],
   "source": [
    "a=0\n",
    "b=1;\n",
    "\n",
    "print( a ,b )\n",
    "\n",
    "for i in range(10):\n",
    "    c=a+b\n",
    "    a=b\n",
    "    b=c\n",
    "    print(c)\n"
   ]
  },
  {
   "cell_type": "code",
   "execution_count": 28,
   "metadata": {},
   "outputs": [
    {
     "name": "stdout",
     "output_type": "stream",
     "text": [
      "hrllrhhiimy age is\n"
     ]
    }
   ],
   "source": [
    "ph=\"hhii\"\n",
    "print(\"hrllr\"+ ph +\"my age is\") "
   ]
  },
  {
   "cell_type": "code",
   "execution_count": 6,
   "metadata": {},
   "outputs": [
    {
     "data": {
      "text/plain": [
       "[1, 3, 2, 1]"
      ]
     },
     "execution_count": 6,
     "metadata": {},
     "output_type": "execute_result"
    }
   ],
   "source": [
    "a=[1,2,3,1]\n",
    "a.reverse()\n",
    "a"
   ]
  },
  {
   "cell_type": "code",
   "execution_count": 1,
   "metadata": {},
   "outputs": [
    {
     "ename": "ModuleNotFoundError",
     "evalue": "No module named '_curses'",
     "output_type": "error",
     "traceback": [
      "\u001b[1;31m---------------------------------------------------------------------------\u001b[0m",
      "\u001b[1;31mModuleNotFoundError\u001b[0m                       Traceback (most recent call last)",
      "\u001b[1;32m<ipython-input-1-8a9e27d88c80>\u001b[0m in \u001b[0;36m<module>\u001b[1;34m()\u001b[0m\n\u001b[1;32m----> 1\u001b[1;33m \u001b[1;32mimport\u001b[0m \u001b[0mcurses\u001b[0m\u001b[1;33m\u001b[0m\u001b[0m\n\u001b[0m",
      "\u001b[1;32mC:\\anaconda3\\lib\\curses\\__init__.py\u001b[0m in \u001b[0;36m<module>\u001b[1;34m()\u001b[0m\n\u001b[0;32m     11\u001b[0m \"\"\"\n\u001b[0;32m     12\u001b[0m \u001b[1;33m\u001b[0m\u001b[0m\n\u001b[1;32m---> 13\u001b[1;33m \u001b[1;32mfrom\u001b[0m \u001b[0m_curses\u001b[0m \u001b[1;32mimport\u001b[0m \u001b[1;33m*\u001b[0m\u001b[1;33m\u001b[0m\u001b[0m\n\u001b[0m\u001b[0;32m     14\u001b[0m \u001b[1;32mimport\u001b[0m \u001b[0mos\u001b[0m \u001b[1;32mas\u001b[0m \u001b[0m_os\u001b[0m\u001b[1;33m\u001b[0m\u001b[0m\n\u001b[0;32m     15\u001b[0m \u001b[1;32mimport\u001b[0m \u001b[0msys\u001b[0m \u001b[1;32mas\u001b[0m \u001b[0m_sys\u001b[0m\u001b[1;33m\u001b[0m\u001b[0m\n",
      "\u001b[1;31mModuleNotFoundError\u001b[0m: No module named '_curses'"
     ]
    }
   ],
   "source": [
    "import curses\n"
   ]
  },
  {
   "cell_type": "code",
   "execution_count": 2,
   "metadata": {},
   "outputs": [
    {
     "name": "stdout",
     "output_type": "stream",
     "text": [
      "Collecting windows-curses\n",
      "  Using cached https://files.pythonhosted.org/packages/c8/3e/624b2d6a5ac699ce88bfa5a07d05440a97d18dc7119ff260ff9e38076e56/windows_curses-1.0-cp36-cp36m-win32.whl\n",
      "Installing collected packages: windows-curses\n",
      "Successfully installed windows-curses-1.0\n"
     ]
    },
    {
     "name": "stderr",
     "output_type": "stream",
     "text": [
      "You are using pip version 9.0.1, however version 18.1 is available.\n",
      "You should consider upgrading via the 'python -m pip install --upgrade pip' command.\n"
     ]
    }
   ],
   "source": [
    "!pip install windows-curses"
   ]
  },
  {
   "cell_type": "code",
   "execution_count": null,
   "metadata": {},
   "outputs": [],
   "source": [
    "!python -m pip install --upgrade pip"
   ]
  },
  {
   "cell_type": "code",
   "execution_count": null,
   "metadata": {},
   "outputs": [],
   "source": [
    "def conv(num):\n",
    "    if num==0:\n",
    "        return 0\n",
    "    digit=num%10\n",
    "    if digit==0:\n",
    "        digit=1\n",
    "    return conv(num/10)*10+digit   \n",
    "def con(num):\n",
    "    if(num==0):\n",
    "        return 1\n",
    "    else:\n",
    "        return conv(num)\n",
    "num=int(input(\"enter a number\"))\n",
    "print(con(num))\n",
    "\n"
   ]
  },
  {
   "cell_type": "code",
   "execution_count": 3,
   "metadata": {},
   "outputs": [
    {
     "name": "stdout",
     "output_type": "stream",
     "text": [
      "enter a number12005\n",
      "3889370.2900486775\n"
     ]
    }
   ],
   "source": [
    "def conv(num):\n",
    "    if num==0:\n",
    "        return 0\n",
    "    digit=num%10\n",
    "    if digit==0:\n",
    "        digit=1\n",
    "    return conv(num/10)*10+digit   \n",
    "def con(num):\n",
    "    if num==0:\n",
    "        return 1\n",
    "    else:\n",
    "        return conv(num)\n",
    "num=int(input(\"enter a number\"))\n",
    "print(con(num))"
   ]
  },
  {
   "cell_type": "code",
   "execution_count": 5,
   "metadata": {},
   "outputs": [
    {
     "name": "stdout",
     "output_type": "stream",
     "text": [
      "3278674.379593781\n"
     ]
    }
   ],
   "source": [
    "def convert0to5rec(num): \n",
    "  \n",
    "    # Base case for recurssion termination \n",
    "    if num == 0: \n",
    "        return 0\n",
    "  \n",
    "    # Extract the last digit and change it if needed \n",
    "    digit = num % 10\n",
    "  \n",
    "    if digit == 0: \n",
    "        digit = 5\n",
    "  \n",
    "    # Convert remaining digits and append the last digit \n",
    "    return convert0to5rec(num/10) * 10 + digit \n",
    "  \n",
    "# It handles 0 to 5 calls convert0to5rec() for other numbers \n",
    "def convert0to5(num): \n",
    "    if num == 0: \n",
    "        return 5\n",
    "    else: \n",
    "        return convert0to5rec(num) \n",
    "  \n",
    "  \n",
    "# Driver Program \n",
    "num = 10120\n",
    "print(convert0to5(num)) "
   ]
  },
  {
   "cell_type": "code",
   "execution_count": 1,
   "metadata": {},
   "outputs": [
    {
     "name": "stdout",
     "output_type": "stream",
     "text": [
      "X=[-0.79415228  2.10495117], Predicted=0\n",
      "X=[-8.25290074 -4.71455545], Predicted=1\n",
      "X=[-2.18773166  3.33352125], Predicted=0\n"
     ]
    },
    {
     "name": "stderr",
     "output_type": "stream",
     "text": [
      "C:\\anaconda3\\lib\\site-packages\\sklearn\\linear_model\\logistic.py:433: FutureWarning: Default solver will be changed to 'lbfgs' in 0.22. Specify a solver to silence this warning.\n",
      "  FutureWarning)\n"
     ]
    }
   ],
   "source": [
    "# example of training a final classification model\n",
    "from sklearn.linear_model import LogisticRegression\n",
    "from sklearn.datasets.samples_generator import make_blobs\n",
    "# generate 2d classification dataset\n",
    "X, y = make_blobs(n_samples=100, centers=2, n_features=2, random_state=1)\n",
    "# fit final model\n",
    "model = LogisticRegression()\n",
    "model.fit(X, y)\n",
    "# new instances where we do not know the answer\n",
    "Xnew, _ = make_blobs(n_samples=3, centers=2, n_features=2, random_state=1)\n",
    "# make a prediction\n",
    "ynew = model.predict(Xnew)\n",
    "# show the inputs and predicted outputs\n",
    "for i in range(len(Xnew)):\n",
    "\tprint(\"X=%s, Predicted=%s\" % (Xnew[i], ynew[i]))"
   ]
  },
  {
   "cell_type": "code",
   "execution_count": 1,
   "metadata": {},
   "outputs": [
    {
     "data": {
      "text/plain": [
       "72148"
      ]
     },
     "execution_count": 1,
     "metadata": {},
     "output_type": "execute_result"
    }
   ],
   "source": [
    "import requests\n",
    "import datetime\n",
    "\n",
    "# This will download EPG data from https://www.aljazeera.com/watch_now/epgschedule.html into JSON format\n",
    "# It will then produce a file called tv.aljazeera.live.xml\n",
    "\n",
    "today  = datetime.datetime.now().strftime('%d-%B-%Y')\n",
    "data = 'Cmd=&StartDate=' + today + '&TimeZone=-4%3A00%3A00&ProdPreview=true'\n",
    "response = requests.post('https://www.aljazeera.com/addons/Schedule.ashx', data=data).json()\n",
    "\n",
    "number_of_programs = len(response['Schedule']['Programs']) - 1\n",
    "\n",
    "channel_id = \"tv.aljazeera.live\"\n",
    "channel_name = \"Al Jazeera\"\n",
    "\n",
    "epg = '<tv>\\n'\n",
    "epg += '<channel id=\"' + channel_id + '\">\\n'\n",
    "epg += '\\t<display-name>' + channel_name + '</display-name>\\n'\n",
    "epg += '</channel>\\n'\n",
    "for i in range(number_of_programs):\n",
    "    program_title = response['Schedule']['Programs'][i]['SeriesTitle'].replace('&' , '&amp;')\n",
    "    program_desc = response['Schedule']['Programs'][i]['Synopsis'].replace('&' , '&amp;')\n",
    "    tvg_datetime_start = datetime.datetime.strptime(response['Schedule']['Programs'][i]['TVGuideDateTime'] , '%d-%b-%Y %H:%M:%S')\n",
    "    tvg_datetime_stop = datetime.datetime.strptime(response['Schedule']['Programs'][i + 1]['TVGuideDateTime'] , '%d-%b-%Y %H:%M:%S')\n",
    "    program_start = tvg_datetime_start.strftime('%Y%m%d%H%M%S') \n",
    "    program_stop = tvg_datetime_stop.strftime('%Y%m%d%H%M%S')\n",
    "    epg += tvg_datetime_start.strftime('%Y\\n')\n",
    "    epg += '<programme start=\"' + program_start + ' +0300' '\" stop=\"' + program_stop + ' +0300' '\" channel=\"' + channel_id + '\">\\n'\n",
    "    epg += '\\t<title>' + program_title + '</title>\\n'\n",
    "    epg += '\\t<desc>' + program_desc + '</desc>\\n'\n",
    "    epg += '</programme>\\n'\n",
    "epg += '</tv>'\n",
    "\n",
    "xmltv_file = open(channel_id + '.xml' , 'w+')\n",
    "xmltv_file.write(epg)"
   ]
  }
 ],
 "metadata": {
  "kernelspec": {
   "display_name": "Python 3",
   "language": "python",
   "name": "python3"
  },
  "language_info": {
   "codemirror_mode": {
    "name": "ipython",
    "version": 3
   },
   "file_extension": ".py",
   "mimetype": "text/x-python",
   "name": "python",
   "nbconvert_exporter": "python",
   "pygments_lexer": "ipython3",
   "version": "3.6.8"
  }
 },
 "nbformat": 4,
 "nbformat_minor": 2
}
